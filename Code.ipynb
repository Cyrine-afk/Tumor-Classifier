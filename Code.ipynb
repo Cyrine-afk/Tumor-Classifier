{
 "cells": [
  {
   "cell_type": "markdown",
   "metadata": {},
   "source": [
    "## Importing the dataset"
   ]
  },
  {
   "cell_type": "code",
   "execution_count": 1,
   "metadata": {},
   "outputs": [],
   "source": [
    "import pandas as pd\n",
    "\n",
    "dataset = pd.read_csv('cancer.csv')"
   ]
  },
  {
   "cell_type": "markdown",
   "metadata": {},
   "source": [
    "## Attributes"
   ]
  },
  {
   "cell_type": "code",
   "execution_count": 4,
   "metadata": {},
   "outputs": [],
   "source": [
    "# y : they help us predict if the tumor is benign or malignant\n",
    "# x : all the other values in the dataset\n",
    "\n",
    "x=dataset.drop(columns=[\"diagnosis(1=m, 0=b)\"])"
   ]
  },
  {
   "cell_type": "code",
   "execution_count": 5,
   "metadata": {},
   "outputs": [],
   "source": [
    "y=dataset[\"diagnosis(1=m, 0=b)\"]"
   ]
  },
  {
   "cell_type": "markdown",
   "metadata": {},
   "source": [
    "## Split data into training and testing sets"
   ]
  },
  {
   "cell_type": "code",
   "execution_count": 8,
   "metadata": {},
   "outputs": [],
   "source": [
    "from sklearn.model_selection import train_test_split\n",
    "\n",
    "# test_size=0.2 means that 20% of our data is going to be in the testing set\n",
    "x_train, x_test, y_train, y_test = train_test_split(x, y, test_size=0.2)"
   ]
  },
  {
   "cell_type": "markdown",
   "metadata": {},
   "source": [
    "## Building a neural network (building & training the AI model)"
   ]
  },
  {
   "cell_type": "code",
   "execution_count": null,
   "metadata": {},
   "outputs": [],
   "source": [
    "import tensorflow as tf\n",
    "\n",
    "model = tf.keras.models.Sequential()"
   ]
  },
  {
   "cell_type": "markdown",
   "metadata": {},
   "source": [
    "Layering the model"
   ]
  },
  {
   "cell_type": "code",
   "execution_count": null,
   "metadata": {},
   "outputs": [],
   "source": [
    "#layer 1\n",
    "model.add(tf.keras.layers.Dense(256, input_shape = x_train.shape, activation='sigmoid'))\n",
    "# we will input data the same size as the x_train \n",
    "# we want to get an output of 256 neurons (processing the input inside the neural network that we are building)\n",
    "# we have an activation function that we have set to sigmoid (sigmoid helps us take all the input values and plot them between 0 and 1)\n",
    "# the sigmoid activation function is helpful with reducing the model's complexity and making it more accurate\n",
    "\n",
    "#layer 2\n",
    "model.add(tf.keras.layers.Dense(256, activation='sigmoid'))\n",
    "\n",
    "#activation layer \n",
    "model.add(tf.keras.layers.Dense(1, activation='sigmoid'))\n",
    "# we will only have 1 neuron output, because we want our input data to be binary (1 or 0)"
   ]
  },
  {
   "cell_type": "markdown",
   "metadata": {},
   "source": [
    "Compiling the model"
   ]
  },
  {
   "cell_type": "code",
   "execution_count": 10,
   "metadata": {},
   "outputs": [],
   "source": [
    "model.compile(optimizer=\"adam\", loss='binary_crossentropy', metrics='accuracy')\n",
    "\n",
    "# the optimizer is how the machine learning algorithm is being optimized\n",
    "# this optimizer is also helping the nerons in our neural network are being fine-tuned to fit the data\n",
    "\n",
    "# because we're using a binary classification, we're using a metric called binary crossentropy that is sueful with categorical classifications (benign or malignant in our case)\n",
    "\n",
    "# the metrics we want to be looking at is accuracy, since we want to correctly classify as many tumors as possible"
   ]
  },
  {
   "cell_type": "markdown",
   "metadata": {},
   "source": [
    "Fitting data"
   ]
  },
  {
   "cell_type": "code",
   "execution_count": null,
   "metadata": {},
   "outputs": [],
   "source": [
    "model.fit(x_train, y_train, epochs=1000)\n",
    "\n",
    "# epochs is the number of times our algorithm is going to be iterating over the same data"
   ]
  },
  {
   "cell_type": "markdown",
   "metadata": {},
   "source": [
    "## Evaluating the model"
   ]
  },
  {
   "cell_type": "code",
   "execution_count": null,
   "metadata": {},
   "outputs": [],
   "source": [
    "model.evaluate(x_test, y_test)\n",
    "\n",
    "# this is going to comapre what the model \"thinks\" the y_test should be versus what y_test actually is"
   ]
  },
  {
   "cell_type": "markdown",
   "metadata": {},
   "source": [
    "=> Accuracy is 97%, which means that on new data, our machine learning algorithm can correctly classify a dataset's tumors with 97% accuracy"
   ]
  }
 ],
 "metadata": {
  "kernelspec": {
   "display_name": "Python 3.8.0 64-bit",
   "language": "python",
   "name": "python3"
  },
  "language_info": {
   "codemirror_mode": {
    "name": "ipython",
    "version": 3
   },
   "file_extension": ".py",
   "mimetype": "text/x-python",
   "name": "python",
   "nbconvert_exporter": "python",
   "pygments_lexer": "ipython3",
   "version": "3.8.0"
  },
  "orig_nbformat": 4,
  "vscode": {
   "interpreter": {
    "hash": "a6a70645d0e23e7cfd1fa8aebd295f550464a00022b6905063dcf7994ccecb90"
   }
  }
 },
 "nbformat": 4,
 "nbformat_minor": 2
}
