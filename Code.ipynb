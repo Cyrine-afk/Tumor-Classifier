{
 "cells": [
  {
   "cell_type": "markdown",
   "metadata": {},
   "source": [
    "## Importing the dataset"
   ]
  },
  {
   "cell_type": "code",
   "execution_count": 1,
   "metadata": {},
   "outputs": [],
   "source": [
    "import pandas as pd\n",
    "\n",
    "dataset = pd.read_csv('cancer.csv')"
   ]
  },
  {
   "cell_type": "markdown",
   "metadata": {},
   "source": [
    "## Attributes"
   ]
  },
  {
   "cell_type": "code",
   "execution_count": 4,
   "metadata": {},
   "outputs": [],
   "source": [
    "# y : they help us predict if the tumor is benign or malignant\n",
    "# x : all the other values in the dataset\n",
    "\n",
    "x=dataset.drop(columns=[\"diagnosis(1=m, 0=b)\"])"
   ]
  },
  {
   "cell_type": "code",
   "execution_count": 5,
   "metadata": {},
   "outputs": [],
   "source": [
    "y=dataset[\"diagnosis(1=m, 0=b)\"]"
   ]
  },
  {
   "cell_type": "markdown",
   "metadata": {},
   "source": [
    "## Split data into training and testing sets"
   ]
  },
  {
   "cell_type": "code",
   "execution_count": 8,
   "metadata": {},
   "outputs": [],
   "source": [
    "from sklearn.model_selection import train_test_split\n",
    "\n",
    "# test_size=0.2 means that 20% of our data is going to be in the testing set\n",
    "x_train, x_test, y_train, y_test = train_test_split(x, y, test_size=0.2)"
   ]
  },
  {
   "cell_type": "markdown",
   "metadata": {},
   "source": [
    "## Building a neural network (building & training the AI model)"
   ]
  },
  {
   "cell_type": "code",
   "execution_count": null,
   "metadata": {},
   "outputs": [],
   "source": [
    "import tensorflow as tf\n",
    "\n",
    "model = tf.keras.models.Sequential()"
   ]
  },
  {
   "cell_type": "markdown",
   "metadata": {},
   "source": [
    "Layering the model"
   ]
  },
  {
   "cell_type": "code",
   "execution_count": null,
   "metadata": {},
   "outputs": [],
   "source": [
    "#layer 1\n",
    "model.add(tf.keras.layers.Dense(256, input_shape = x_train.shape, activation='sigmoid'))\n",
    "# we will input data the same size as the x_train \n",
    "# we want to get an output of 256 neurons (processing the input inside the neural network that we are building)\n",
    "# we have an activation function that we have set to sigmoid (sigmoid helps us take all the input values and plot them between 0 and 1)\n",
    "# the sigmoid activation function is helpful with reducing the model's complexity and making it more accurate\n",
    "\n",
    "#layer 2\n",
    "model.add(tf.keras.layers.Dense(256, activation='sigmoid'))\n",
    "\n",
    "#activation layer \n",
    "model.add(tf.keras.layers.Dense(1, activation='sigmoid'))\n",
    "# we will only have 1 neuron output, because we want our input data to be binary (1 or 0)"
   ]
  },
  {
   "cell_type": "markdown",
   "metadata": {},
   "source": [
    "Compiling the model"
   ]
  },
  {
   "cell_type": "code",
   "execution_count": 9,
   "metadata": {},
   "outputs": [
    {
     "ename": "NameError",
     "evalue": "name 'model' is not defined",
     "output_type": "error",
     "traceback": [
      "\u001b[1;31m---------------------------------------------------------------------------\u001b[0m",
      "\u001b[1;31mNameError\u001b[0m                                 Traceback (most recent call last)",
      "\u001b[1;32md:\\Personal Folder\\AI Projects\\Tumor-Classifier\\Code.ipynb Cellule 13\u001b[0m in \u001b[0;36m<cell line: 2>\u001b[1;34m()\u001b[0m\n\u001b[0;32m      <a href='vscode-notebook-cell:/d%3A/Personal%20Folder/AI%20Projects/Tumor-Classifier/Code.ipynb#X15sZmlsZQ%3D%3D?line=0'>1</a>\u001b[0m \u001b[39m#this is how the machine learning algorithm is being optimized\u001b[39;00m\n\u001b[1;32m----> <a href='vscode-notebook-cell:/d%3A/Personal%20Folder/AI%20Projects/Tumor-Classifier/Code.ipynb#X15sZmlsZQ%3D%3D?line=1'>2</a>\u001b[0m model\u001b[39m.\u001b[39mcompile(optimizer\u001b[39m=\u001b[39m\u001b[39m\"\u001b[39m\u001b[39madam\u001b[39m\u001b[39m\"\u001b[39m, )\n",
      "\u001b[1;31mNameError\u001b[0m: name 'model' is not defined"
     ]
    }
   ],
   "source": [
    "#this is how the machine learning algorithm is being optimized\n",
    "#this is also helping the nerons in our neural network are being fine-tuned to fit the data\n",
    "model.compile(optimizer=\"adam\", )"
   ]
  }
 ],
 "metadata": {
  "kernelspec": {
   "display_name": "Python 3.8.0 64-bit",
   "language": "python",
   "name": "python3"
  },
  "language_info": {
   "codemirror_mode": {
    "name": "ipython",
    "version": 3
   },
   "file_extension": ".py",
   "mimetype": "text/x-python",
   "name": "python",
   "nbconvert_exporter": "python",
   "pygments_lexer": "ipython3",
   "version": "3.8.0"
  },
  "orig_nbformat": 4,
  "vscode": {
   "interpreter": {
    "hash": "a6a70645d0e23e7cfd1fa8aebd295f550464a00022b6905063dcf7994ccecb90"
   }
  }
 },
 "nbformat": 4,
 "nbformat_minor": 2
}
